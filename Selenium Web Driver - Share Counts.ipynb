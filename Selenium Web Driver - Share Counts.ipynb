{
 "cells": [
  {
   "cell_type": "code",
   "execution_count": null,
   "metadata": {},
   "outputs": [],
   "source": [
    "# For Web Driver\n",
    "import pandas as pd\n",
    "import numpy as np\n",
    "import selenium\n",
    "from selenium import webdriver\n",
    "from selenium.webdriver.common.keys import Keys\n",
    "import pandas as pd\n",
    "import time\n",
    "import tqdm\n",
    "\n",
    "# For Tiny URL Converter\n",
    "from __future__ import with_statement\n",
    "import contextlib\n",
    "try:\n",
    "    from urllib.parse import urlencode\n",
    "except ImportError:\n",
    "    from urllib import urlencode\n",
    "\n",
    "try:\n",
    "    from urllib.request import urlopen\n",
    "except ImportError:\n",
    "    from urllib2 import urlopen"
   ]
  },
  {
   "cell_type": "markdown",
   "metadata": {},
   "source": [
    "# Selenium Shared Count"
   ]
  },
  {
   "cell_type": "code",
   "execution_count": null,
   "metadata": {
    "scrolled": true
   },
   "outputs": [],
   "source": [
    "# Import the necessary libraries\n",
    "\n",
    "# For Web Driver\n",
    "import pandas as pd\n",
    "import numpy as np\n",
    "import selenium\n",
    "from selenium import webdriver\n",
    "from selenium.webdriver.common.keys import Keys\n",
    "import pandas as pd\n",
    "import time\n",
    "import tqdm\n",
    "    \n",
    "lst = pd.read_csv('./ShareCounts.csv', sep=',', header=0)\n",
    "lst = lst['Link']\n",
    "\n",
    "# Instantiate webdriver and head to the website\n",
    "driver = webdriver.Chrome('./chromedriver.exe')\n",
    "driver.get(\"https://sharescount.com/\")\n",
    "search_bar = driver.find_element_by_name(\"url\")\n",
    "\n",
    "# empty dictionaries and list\n",
    "data = {}\n",
    "url_list = []\n",
    "share_ct_list = []\n",
    "\n",
    "# insert the url and grab the data\n",
    "for url in tqdm.tqdm(lst): \n",
    "    search_bar.clear()\n",
    "    search_bar.send_keys(url)\n",
    "    search_bar.send_keys(Keys.RETURN)\n",
    "    time.sleep(5)\n",
    "    value = driver.find_element_by_id(\"value-shares\")\n",
    "    number = value.text\n",
    "    number = number.translate({ord(i): None for i in ','})\n",
    "    number = int(number)\n",
    "    url_list.append(url)\n",
    "    share_ct_list.append(number)\n",
    "\n",
    "# place it all into a dataframe\n",
    "data['URL Name']    = url_list\n",
    "data['Share Count'] = share_ct_list\n",
    "df = pd.DataFrame.from_dict(data)\n",
    "df"
   ]
  },
  {
   "cell_type": "markdown",
   "metadata": {},
   "source": [
    "Notes:\n",
    "\n",
    "- Add a URL Shortener. Long URLs take extra time.\n",
    "- might be better to have the URLs shortened before starting the share webdriver.\n",
    "- The website won't take in tinyurls so forget it :("
   ]
  }
 ],
 "metadata": {
  "kernelspec": {
   "display_name": "Python 3",
   "language": "python",
   "name": "python3"
  },
  "language_info": {
   "codemirror_mode": {
    "name": "ipython",
    "version": 3
   },
   "file_extension": ".py",
   "mimetype": "text/x-python",
   "name": "python",
   "nbconvert_exporter": "python",
   "pygments_lexer": "ipython3",
   "version": "3.7.4"
  }
 },
 "nbformat": 4,
 "nbformat_minor": 2
}
